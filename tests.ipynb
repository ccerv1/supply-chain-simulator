{
 "cells": [
  {
   "cell_type": "code",
   "execution_count": 1,
   "id": "b96010ec",
   "metadata": {},
   "outputs": [],
   "source": [
    "import pandas as pd\n",
    "import matplotlib.pyplot as plt\n",
    "import seaborn as sns"
   ]
  },
  {
   "cell_type": "code",
   "execution_count": 2,
   "id": "a6583ff0",
   "metadata": {},
   "outputs": [
    {
     "data": {
      "text/plain": [
       "28056380"
      ]
     },
     "execution_count": 2,
     "metadata": {},
     "output_type": "execute_result"
    }
   ],
   "source": [
    "df = pd.read_parquet('data/_local/results/global_flows.parquet')\n",
    "len(df)"
   ]
  },
  {
   "cell_type": "code",
   "execution_count": 3,
   "id": "2ef46ffc",
   "metadata": {},
   "outputs": [
    {
     "data": {
      "text/html": [
       "<div>\n",
       "<style scoped>\n",
       "    .dataframe tbody tr th:only-of-type {\n",
       "        vertical-align: middle;\n",
       "    }\n",
       "\n",
       "    .dataframe tbody tr th {\n",
       "        vertical-align: top;\n",
       "    }\n",
       "\n",
       "    .dataframe thead th {\n",
       "        text-align: right;\n",
       "    }\n",
       "</style>\n",
       "<table border=\"1\" class=\"dataframe\">\n",
       "  <thead>\n",
       "    <tr style=\"text-align: right;\">\n",
       "      <th></th>\n",
       "      <th>source</th>\n",
       "      <th>target</th>\n",
       "      <th>value</th>\n",
       "      <th>country</th>\n",
       "    </tr>\n",
       "  </thead>\n",
       "  <tbody>\n",
       "    <tr>\n",
       "      <th>3027609</th>\n",
       "      <td>M998</td>\n",
       "      <td>E41</td>\n",
       "      <td>687457.0</td>\n",
       "      <td>Brazil</td>\n",
       "    </tr>\n",
       "    <tr>\n",
       "      <th>3027610</th>\n",
       "      <td>M998</td>\n",
       "      <td>E26</td>\n",
       "      <td>3403402.0</td>\n",
       "      <td>Brazil</td>\n",
       "    </tr>\n",
       "    <tr>\n",
       "      <th>3027611</th>\n",
       "      <td>M998</td>\n",
       "      <td>E41</td>\n",
       "      <td>572255.0</td>\n",
       "      <td>Brazil</td>\n",
       "    </tr>\n",
       "    <tr>\n",
       "      <th>3027612</th>\n",
       "      <td>M999</td>\n",
       "      <td>E82</td>\n",
       "      <td>738040.0</td>\n",
       "      <td>Brazil</td>\n",
       "    </tr>\n",
       "    <tr>\n",
       "      <th>3027613</th>\n",
       "      <td>M999</td>\n",
       "      <td>E74</td>\n",
       "      <td>1502229.0</td>\n",
       "      <td>Brazil</td>\n",
       "    </tr>\n",
       "  </tbody>\n",
       "</table>\n",
       "</div>"
      ],
      "text/plain": [
       "        source target      value country\n",
       "3027609   M998    E41   687457.0  Brazil\n",
       "3027610   M998    E26  3403402.0  Brazil\n",
       "3027611   M998    E41   572255.0  Brazil\n",
       "3027612   M999    E82   738040.0  Brazil\n",
       "3027613   M999    E74  1502229.0  Brazil"
      ]
     },
     "execution_count": 3,
     "metadata": {},
     "output_type": "execute_result"
    }
   ],
   "source": [
    "df.tail()"
   ]
  },
  {
   "cell_type": "code",
   "execution_count": 3,
   "id": "f1a72d57",
   "metadata": {},
   "outputs": [
    {
     "data": {
      "text/plain": [
       "18032"
      ]
     },
     "execution_count": 3,
     "metadata": {},
     "output_type": "execute_result"
    }
   ],
   "source": [
    "exporter = 'E40'\n",
    "country = 'Brazil'\n",
    "middlemen = list(df[(df['target'] == exporter) & (df['country'] == country)]['source'].unique())\n",
    "farmers = df[(df['target'].isin(middlemen)) & (df['country'] == country)]['source'].unique()\n",
    "len(farmers)"
   ]
  },
  {
   "cell_type": "code",
   "execution_count": 3,
   "id": "2e1664b3",
   "metadata": {},
   "outputs": [],
   "source": [
    "df_farmers = df[df['source'].str.startswith('F')==True]\n",
    "df_buyers = df[df['source'].str.startswith('M')==True]"
   ]
  },
  {
   "cell_type": "code",
   "execution_count": 4,
   "id": "e338fdad",
   "metadata": {},
   "outputs": [
    {
     "data": {
      "text/plain": [
       "15222498.0"
      ]
     },
     "execution_count": 4,
     "metadata": {},
     "output_type": "execute_result"
    }
   ],
   "source": [
    "farmer_values = df_farmers.groupby('source')['value'].sum()\n",
    "farmer_values.sum()"
   ]
  },
  {
   "cell_type": "code",
   "execution_count": 5,
   "id": "c314d03c",
   "metadata": {},
   "outputs": [
    {
     "data": {
      "text/plain": [
       "count    373880.000000\n",
       "mean         40.714930\n",
       "std          28.247256\n",
       "min          11.000000\n",
       "25%          24.000000\n",
       "50%          33.000000\n",
       "75%          45.000000\n",
       "max        1107.000000\n",
       "Name: value, dtype: float64"
      ]
     },
     "execution_count": 5,
     "metadata": {},
     "output_type": "execute_result"
    }
   ],
   "source": [
    "farmer_values.sort_values().describe()"
   ]
  },
  {
   "cell_type": "code",
   "execution_count": 6,
   "id": "f075a0bc",
   "metadata": {},
   "outputs": [
    {
     "data": {
      "text/plain": [
       "country\n",
       "Rwanda    253708.3\n",
       "Name: value, dtype: float64"
      ]
     },
     "execution_count": 6,
     "metadata": {},
     "output_type": "execute_result"
    }
   ],
   "source": [
    "df_farmers.groupby('country')['value'].sum() / 60"
   ]
  },
  {
   "cell_type": "code",
   "execution_count": 7,
   "id": "a7c6e34c",
   "metadata": {},
   "outputs": [
    {
     "data": {
      "text/plain": [
       "country\n",
       "Rwanda    197797.614613\n",
       "Name: value, dtype: float64"
      ]
     },
     "execution_count": 7,
     "metadata": {},
     "output_type": "execute_result"
    }
   ],
   "source": [
    "df_buyers.groupby('country')['value'].sum() / 60"
   ]
  },
  {
   "cell_type": "code",
   "execution_count": 8,
   "id": "f9a9e657",
   "metadata": {},
   "outputs": [
    {
     "data": {
      "text/plain": [
       "count     2498\n",
       "mean      6004\n",
       "std       8012\n",
       "min        246\n",
       "25%       1495\n",
       "50%       2829\n",
       "75%       6945\n",
       "max      62609\n",
       "Name: value, dtype: int64"
      ]
     },
     "execution_count": 8,
     "metadata": {},
     "output_type": "execute_result"
    }
   ],
   "source": [
    "df_buyers['value'].describe().apply(int)"
   ]
  },
  {
   "cell_type": "code",
   "execution_count": 9,
   "id": "5d2bd71a",
   "metadata": {},
   "outputs": [],
   "source": [
    "\n",
    "buyer_counts = df_farmers.groupby('source')['target'].nunique().sort_values()"
   ]
  },
  {
   "cell_type": "code",
   "execution_count": 10,
   "id": "fef2ca30",
   "metadata": {},
   "outputs": [
    {
     "data": {
      "text/plain": [
       "247246.25"
      ]
     },
     "execution_count": 10,
     "metadata": {},
     "output_type": "execute_result"
    }
   ],
   "source": [
    "df_farmers['value'].sum() / 60"
   ]
  },
  {
   "cell_type": "code",
   "execution_count": 27,
   "id": "1eed49d8",
   "metadata": {},
   "outputs": [
    {
     "data": {
      "text/plain": [
       "target\n",
       "E96      1\n",
       "E93      1\n",
       "E3       2\n",
       "E39      2\n",
       "E45      2\n",
       "      ... \n",
       "E4      94\n",
       "E61    101\n",
       "E17    103\n",
       "E56    157\n",
       "E79    499\n",
       "Name: source, Length: 100, dtype: int64"
      ]
     },
     "execution_count": 27,
     "metadata": {},
     "output_type": "execute_result"
    }
   ],
   "source": [
    "df_middlemen = df[df['source'].str.contains('M')==True]\n",
    "df_middlemen.groupby('target')['source'].nunique().sort_values()"
   ]
  },
  {
   "cell_type": "code",
   "execution_count": 30,
   "id": "fa89d0a3",
   "metadata": {},
   "outputs": [
    {
     "data": {
      "text/plain": [
       "0.05492550197149754"
      ]
     },
     "execution_count": 30,
     "metadata": {},
     "output_type": "execute_result"
    }
   ],
   "source": [
    "df_middlemen[df_middlemen['target'] == 'E56']['value'].sum() / df_farmers['value'].sum()"
   ]
  },
  {
   "cell_type": "code",
   "execution_count": null,
   "id": "b15b27ba",
   "metadata": {},
   "outputs": [],
   "source": []
  }
 ],
 "metadata": {
  "kernelspec": {
   "display_name": "Python 3 (ipykernel)",
   "language": "python",
   "name": "python3"
  },
  "language_info": {
   "codemirror_mode": {
    "name": "ipython",
    "version": 3
   },
   "file_extension": ".py",
   "mimetype": "text/x-python",
   "name": "python",
   "nbconvert_exporter": "python",
   "pygments_lexer": "ipython3",
   "version": "3.11.5"
  }
 },
 "nbformat": 4,
 "nbformat_minor": 5
}
